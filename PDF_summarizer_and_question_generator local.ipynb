{
 "cells": [
  {
   "cell_type": "code",
   "execution_count": 6,
   "id": "f1187040-1bd9-476b-9947-c274f5586a92",
   "metadata": {
    "colab": {
     "base_uri": "https://localhost:8080/"
    },
    "id": "f1187040-1bd9-476b-9947-c274f5586a92",
    "outputId": "5cb65087-27a7-49be-8375-01536882761f"
   },
   "outputs": [
    {
     "name": "stderr",
     "output_type": "stream",
     "text": [
      "C:\\Users\\WELCOME\\AppData\\Local\\Programs\\Python\\Python311\\Lib\\site-packages\\spacy\\util.py:910: UserWarning: [W095] Model 'en_core_web_sm' (3.8.0) was trained with spaCy v3.8.0 and may not be 100% compatible with the current version (3.7.6). If you see errors or degraded performance, download a newer compatible model or retrain your custom model with the current spaCy version. For more details and available updates, run: python -m spacy validate\n",
      "  warnings.warn(warn_msg)\n"
     ]
    },
    {
     "name": "stdout",
     "output_type": "stream",
     "text": [
      "Text extracted, cleaned, and saved to extracted_text.txt\n",
      "WARNING:tensorflow:From C:\\Users\\WELCOME\\AppData\\Local\\Programs\\Python\\Python311\\Lib\\site-packages\\tf_keras\\src\\losses.py:2976: The name tf.losses.sparse_softmax_cross_entropy is deprecated. Please use tf.compat.v1.losses.sparse_softmax_cross_entropy instead.\n",
      "\n"
     ]
    },
    {
     "name": "stderr",
     "output_type": "stream",
     "text": [
      "Device set to use cpu\n"
     ]
    },
    {
     "name": "stdout",
     "output_type": "stream",
     "text": [
      "Summary saved to new_summary.txt\n"
     ]
    }
   ],
   "source": [
    "# Required Libraries\n",
    "import re\n",
    "from transformers import pipeline, AutoTokenizer\n",
    "import pdfplumber\n",
    "import spacy\n",
    "\n",
    "\n",
    "\n",
    "# File paths\n",
    "pdf_path = \"../../2.Phishing/78_Teach_GPT_To_Phish.pdf\"\n",
    "output_text_file = \"extracted_text.txt\"\n",
    "summary_output_file = \"new_summary.txt\"\n",
    "\n",
    "# Load SpaCy for sentence tokenization\n",
    "nlp = spacy.load('en_core_web_sm')\n",
    "\n",
    "# Step 1: Extract and clean text from the PDF\n",
    "try:\n",
    "    with pdfplumber.open(pdf_path) as pdf:\n",
    "        extracted_text = \"\"\n",
    "        for page in pdf.pages:\n",
    "            page_text = page.extract_text()\n",
    "            if page_text:  # Avoid NoneType issues\n",
    "                extracted_text += page_text\n",
    "\n",
    "    # Clean the extracted text\n",
    "    cleaned_text = re.sub(r'\\s+', ' ', extracted_text)  # Replace multiple spaces with a single space\n",
    "    cleaned_text = re.sub(r'[^\\x00-\\x7F]+', ' ', cleaned_text)  # Remove non-ASCII characters\n",
    "\n",
    "    # Save the cleaned text to a file\n",
    "    with open(output_text_file, \"w\", encoding='utf-8') as text_file:\n",
    "        text_file.write(cleaned_text)\n",
    "\n",
    "    print(f\"Text extracted, cleaned, and saved to {output_text_file}\")\n",
    "except Exception as e:\n",
    "    print(f\"An error occurred while extracting text: {e}\")\n",
    "\n",
    "# Step 2: Tokenize sentences using SpaCy\n",
    "try:\n",
    "    sentences = [sent.text for sent in nlp(cleaned_text).sents]\n",
    "except Exception as e:\n",
    "    print(f\"Error during sentence tokenization: {e}\")\n",
    "    sentences = []\n",
    "\n",
    "# Step 3: Load summarization pipeline and tokenizer\n",
    "try:\n",
    "    summarizer = pipeline(\"summarization\", model=\"facebook/bart-large-cnn\", device=-1)  # Use CPU\n",
    "    tokenizer = AutoTokenizer.from_pretrained(\"facebook/bart-large-cnn\")\n",
    "    max_token_length = 1024  # Token limit for the model\n",
    "except Exception as e:\n",
    "    print(f\"Error loading summarization pipeline: {e}\")\n",
    "    exit()\n",
    "\n",
    "# Step 4: Create chunks based on token length\n",
    "try:\n",
    "    chunks = []\n",
    "    current_chunk = []\n",
    "    current_length = 0\n",
    "\n",
    "    for sentence in sentences:\n",
    "        token_length = len(tokenizer.tokenize(sentence))\n",
    "        if current_length + token_length <= max_token_length:\n",
    "            current_chunk.append(sentence)\n",
    "            current_length += token_length\n",
    "        else:\n",
    "            if current_chunk:  # Ensure non-empty chunks\n",
    "                chunks.append(' '.join(current_chunk))\n",
    "            current_chunk = [sentence]\n",
    "            current_length = token_length\n",
    "\n",
    "    if current_chunk:  # Add the last chunk if not empty\n",
    "        chunks.append(' '.join(current_chunk))\n",
    "except Exception as e:\n",
    "    print(f\"Error during text chunking: {e}\")\n",
    "    chunks = []\n",
    "\n",
    "# Step 5: Summarize each chunk and combine results\n",
    "try:\n",
    "    summaries = []\n",
    "    for chunk in chunks:\n",
    "        if chunk.strip():  # Ensure chunk is not empty\n",
    "            summary = summarizer(chunk, max_length=200, min_length=50, do_sample=False)\n",
    "            summaries.append(summary[0][\"summary_text\"])\n",
    "\n",
    "    # Combine summaries into a full summary\n",
    "    full_summary = \" \".join(summaries)\n",
    "\n",
    "    # Save the summary to a file\n",
    "    with open(summary_output_file, \"w\", encoding=\"utf-8\") as file:\n",
    "        file.write(full_summary)\n",
    "\n",
    "    print(f\"Summary saved to {summary_output_file}\")\n",
    "except Exception as e:\n",
    "    print(f\"Error during summarization: {e}\")\n"
   ]
  },
  {
   "cell_type": "code",
   "execution_count": null,
   "id": "fd18f5da-bf5c-4ccb-ac07-fa2a9db3cd80",
   "metadata": {},
   "outputs": [],
   "source": []
  }
 ],
 "metadata": {
  "colab": {
   "provenance": []
  },
  "kernelspec": {
   "display_name": "Python 3 (ipykernel)",
   "language": "python",
   "name": "python3"
  },
  "language_info": {
   "codemirror_mode": {
    "name": "ipython",
    "version": 3
   },
   "file_extension": ".py",
   "mimetype": "text/x-python",
   "name": "python",
   "nbconvert_exporter": "python",
   "pygments_lexer": "ipython3",
   "version": "3.11.5"
  },
  "widgets": {
   "application/vnd.jupyter.widget-state+json": {
    "state": {
     "0022a74995c14ebda59b1eea2d012db5": {
      "model_module": "@jupyter-widgets/controls",
      "model_module_version": "2.0.0",
      "model_name": "ProgressStyleModel",
      "state": {
       "description_width": ""
      }
     },
     "00499860215346e782c9f06fe51015fd": {
      "model_module": "@jupyter-widgets/controls",
      "model_module_version": "2.0.0",
      "model_name": "HTMLModel",
      "state": {
       "layout": "IPY_MODEL_257d7b7d2c164afaa33d6c00bbc4ca08",
       "style": "IPY_MODEL_5cc799d35fb64316b07821dcd1b7bbf7",
       "value": " 88.0/88.0 [00:00&lt;00:00, 2.85kB/s]"
      }
     },
     "04e47777866e4da6ba0dccf6b1906e26": {
      "model_module": "@jupyter-widgets/controls",
      "model_module_version": "2.0.0",
      "model_name": "FloatProgressModel",
      "state": {
       "bar_style": "success",
       "layout": "IPY_MODEL_763867d6174e4b11a1ca28a1c96401c4",
       "max": 147,
       "style": "IPY_MODEL_c9b6a6d4eeec4b8ca7a93b71f1410e64",
       "value": 147
      }
     },
     "05fa9803adc54dbc960e7c094bdfbe29": {
      "model_module": "@jupyter-widgets/controls",
      "model_module_version": "2.0.0",
      "model_name": "HTMLModel",
      "state": {
       "layout": "IPY_MODEL_95fff2b385f246b2831da590fc697803",
       "style": "IPY_MODEL_b432498d625e43bcb39c91ab25cf30f1",
       "value": " 1.39M/1.39M [00:00&lt;00:00, 5.47MB/s]"
      }
     },
     "0892742007574729837125191dae3147": {
      "model_module": "@jupyter-widgets/controls",
      "model_module_version": "2.0.0",
      "model_name": "HTMLModel",
      "state": {
       "layout": "IPY_MODEL_2c5e4138d88940e4acade2447eea4522",
       "style": "IPY_MODEL_8b7b369857fb4d438f5aa8f2ddedee88",
       "value": "generation_config.json: 100%"
      }
     },
     "0921335bdb55404b9bc9e0433b9a8ac9": {
      "model_module": "@jupyter-widgets/controls",
      "model_module_version": "2.0.0",
      "model_name": "HTMLStyleModel",
      "state": {
       "description_width": "",
       "font_size": null,
       "text_color": null
      }
     },
     "09b260c5edf6470ab37fb369727cd02a": {
      "model_module": "@jupyter-widgets/controls",
      "model_module_version": "2.0.0",
      "model_name": "HTMLModel",
      "state": {
       "layout": "IPY_MODEL_b339090fb9454f7790a11d3386a99e9e",
       "style": "IPY_MODEL_5d1614e3c6c049b8b0996dcb22443c0e",
       "value": " 1.91M/1.91M [00:00&lt;00:00, 4.63MB/s]"
      }
     },
     "0b672c59163f4731826dde859964d8b1": {
      "model_module": "@jupyter-widgets/controls",
      "model_module_version": "2.0.0",
      "model_name": "HTMLStyleModel",
      "state": {
       "description_width": "",
       "font_size": null,
       "text_color": null
      }
     },
     "0dbe5af0980743ea90d6e4484baed3d2": {
      "model_module": "@jupyter-widgets/controls",
      "model_module_version": "2.0.0",
      "model_name": "HBoxModel",
      "state": {
       "children": [
        "IPY_MODEL_95bdc67b2aa144b3a7094ef02414fe3f",
        "IPY_MODEL_3f894fb966b747d0bbd42702457cb74c",
        "IPY_MODEL_7ea2562517314019b04b89520c489470"
       ],
       "layout": "IPY_MODEL_db355901c466449185c04eadffa7f4e2"
      }
     },
     "0ee59a9d0a5043a59294d40f7953220c": {
      "model_module": "@jupyter-widgets/controls",
      "model_module_version": "2.0.0",
      "model_name": "HBoxModel",
      "state": {
       "children": [
        "IPY_MODEL_2ad8b67823e142caafc86533b2820f95",
        "IPY_MODEL_93578e3d154e4082b079f6c4ccb0d072",
        "IPY_MODEL_f537387574084cfd9a22cfc731c2a790"
       ],
       "layout": "IPY_MODEL_7fec28ab703c4c349625de7f774868ac"
      }
     },
     "104985f967c844e780f422fff0dccc91": {
      "model_module": "@jupyter-widgets/base",
      "model_module_version": "2.0.0",
      "model_name": "LayoutModel",
      "state": {}
     },
     "122125c5f9f8482daa32e976d51c9b46": {
      "model_module": "@jupyter-widgets/controls",
      "model_module_version": "2.0.0",
      "model_name": "HTMLModel",
      "state": {
       "layout": "IPY_MODEL_2654e078b5084d928262d1448cbc2251",
       "style": "IPY_MODEL_3e5f1cea90374c728ced3c7d1bc23b95",
       "value": "generation_config.json: 100%"
      }
     },
     "12aef780e9bd49809756d9e4d535068f": {
      "model_module": "@jupyter-widgets/controls",
      "model_module_version": "2.0.0",
      "model_name": "HBoxModel",
      "state": {
       "children": [
        "IPY_MODEL_122125c5f9f8482daa32e976d51c9b46",
        "IPY_MODEL_d3071172b0af44ee9cc7b815d3444009",
        "IPY_MODEL_aabffeecf7554275903667844cc30246"
       ],
       "layout": "IPY_MODEL_2541afcc72b04a84a40b5a6418a969e0"
      }
     },
     "134b3d56171f4efab27abe861de5ee3f": {
      "model_module": "@jupyter-widgets/controls",
      "model_module_version": "2.0.0",
      "model_name": "ProgressStyleModel",
      "state": {
       "description_width": ""
      }
     },
     "16b8b39042984014b78e282d3c64a51b": {
      "model_module": "@jupyter-widgets/controls",
      "model_module_version": "2.0.0",
      "model_name": "HTMLModel",
      "state": {
       "layout": "IPY_MODEL_64604cc82ae744f0bc701fb427714014",
       "style": "IPY_MODEL_3b166447940e4fb79a4a40bda89ba9b3",
       "value": "tokenizer.json: 100%"
      }
     },
     "1b610e8590f04db2a59b9e735c9c1bbf": {
      "model_module": "@jupyter-widgets/controls",
      "model_module_version": "2.0.0",
      "model_name": "HTMLModel",
      "state": {
       "layout": "IPY_MODEL_ddff8546d17c4400a5cd8389904a6e07",
       "style": "IPY_MODEL_f046a2ad5bea44a29882db7556b8813f",
       "value": " 1.21k/1.21k [00:00&lt;00:00, 25.7kB/s]"
      }
     },
     "1feae759cf8c49da9a9448769b16e644": {
      "model_module": "@jupyter-widgets/base",
      "model_module_version": "2.0.0",
      "model_name": "LayoutModel",
      "state": {}
     },
     "20c5ad50a1834a829ff3fe53795975f6": {
      "model_module": "@jupyter-widgets/controls",
      "model_module_version": "2.0.0",
      "model_name": "HTMLStyleModel",
      "state": {
       "description_width": "",
       "font_size": null,
       "text_color": null
      }
     },
     "2541afcc72b04a84a40b5a6418a969e0": {
      "model_module": "@jupyter-widgets/base",
      "model_module_version": "2.0.0",
      "model_name": "LayoutModel",
      "state": {}
     },
     "257d7b7d2c164afaa33d6c00bbc4ca08": {
      "model_module": "@jupyter-widgets/base",
      "model_module_version": "2.0.0",
      "model_name": "LayoutModel",
      "state": {}
     },
     "25d37270550a45dba8c8d08f76926089": {
      "model_module": "@jupyter-widgets/controls",
      "model_module_version": "2.0.0",
      "model_name": "HTMLStyleModel",
      "state": {
       "description_width": "",
       "font_size": null,
       "text_color": null
      }
     },
     "2654e078b5084d928262d1448cbc2251": {
      "model_module": "@jupyter-widgets/base",
      "model_module_version": "2.0.0",
      "model_name": "LayoutModel",
      "state": {}
     },
     "26a015741eef43d181249fcc95bcf2d0": {
      "model_module": "@jupyter-widgets/controls",
      "model_module_version": "2.0.0",
      "model_name": "HTMLStyleModel",
      "state": {
       "description_width": "",
       "font_size": null,
       "text_color": null
      }
     },
     "26f577853e2e44f186cf1031ac45e42d": {
      "model_module": "@jupyter-widgets/base",
      "model_module_version": "2.0.0",
      "model_name": "LayoutModel",
      "state": {}
     },
     "27b4861b05b64b359b2d44dbeb5ab089": {
      "model_module": "@jupyter-widgets/base",
      "model_module_version": "2.0.0",
      "model_name": "LayoutModel",
      "state": {}
     },
     "285930a51bbe4f8186228c41a0d9b6d4": {
      "model_module": "@jupyter-widgets/controls",
      "model_module_version": "2.0.0",
      "model_name": "ProgressStyleModel",
      "state": {
       "description_width": ""
      }
     },
     "29a583067a70470cbef98cfa2e905f24": {
      "model_module": "@jupyter-widgets/controls",
      "model_module_version": "2.0.0",
      "model_name": "HBoxModel",
      "state": {
       "children": [
        "IPY_MODEL_81d1cdf7af294883848f4c755f504ac4",
        "IPY_MODEL_37af25feb0fa4af6ae945a861df1574c",
        "IPY_MODEL_3af0880d4e6f440aa246b772b501f6f2"
       ],
       "layout": "IPY_MODEL_95fad495df6a4990ab3ca7cbbe9ffc0b"
      }
     },
     "2ad8b67823e142caafc86533b2820f95": {
      "model_module": "@jupyter-widgets/controls",
      "model_module_version": "2.0.0",
      "model_name": "HTMLModel",
      "state": {
       "layout": "IPY_MODEL_c6dfaf7d6a094a5e85ed208426250d1a",
       "style": "IPY_MODEL_ce2022d353d64c0186025d0ed33c1964",
       "value": "model.safetensors: 100%"
      }
     },
     "2b016a716fb549b6a83f1d9950723424": {
      "model_module": "@jupyter-widgets/base",
      "model_module_version": "2.0.0",
      "model_name": "LayoutModel",
      "state": {}
     },
     "2b46e5e306fc4ca68a84a2cec600ea12": {
      "model_module": "@jupyter-widgets/base",
      "model_module_version": "2.0.0",
      "model_name": "LayoutModel",
      "state": {}
     },
     "2c5e4138d88940e4acade2447eea4522": {
      "model_module": "@jupyter-widgets/base",
      "model_module_version": "2.0.0",
      "model_name": "LayoutModel",
      "state": {}
     },
     "2d43cf45b96d421488090858db1d46ac": {
      "model_module": "@jupyter-widgets/base",
      "model_module_version": "2.0.0",
      "model_name": "LayoutModel",
      "state": {}
     },
     "308681a7c53c47c4b695124d54e16b86": {
      "model_module": "@jupyter-widgets/controls",
      "model_module_version": "2.0.0",
      "model_name": "HTMLStyleModel",
      "state": {
       "description_width": "",
       "font_size": null,
       "text_color": null
      }
     },
     "32a9fbc294374deda30b106cc486cec8": {
      "model_module": "@jupyter-widgets/base",
      "model_module_version": "2.0.0",
      "model_name": "LayoutModel",
      "state": {}
     },
     "33e948f5567a4f868d5fc6c37f51b497": {
      "model_module": "@jupyter-widgets/controls",
      "model_module_version": "2.0.0",
      "model_name": "HTMLModel",
      "state": {
       "layout": "IPY_MODEL_c67b68e72ba344928c55132f2eab7869",
       "style": "IPY_MODEL_5a2b178d11da4f5e8c44f00912d77c70",
       "value": "vocab.json: 100%"
      }
     },
     "35ab819140f142aa872d6448726bb4dd": {
      "model_module": "@jupyter-widgets/controls",
      "model_module_version": "2.0.0",
      "model_name": "FloatProgressModel",
      "state": {
       "bar_style": "success",
       "layout": "IPY_MODEL_7ff48a8f162d474db407545afd32e213",
       "max": 1389353,
       "style": "IPY_MODEL_7cad4a4b36cc4409a5dc9e6ecfd79f3e",
       "value": 1389353
      }
     },
     "36294f0bf123474d9db1084fedaaddb2": {
      "model_module": "@jupyter-widgets/controls",
      "model_module_version": "2.0.0",
      "model_name": "HBoxModel",
      "state": {
       "children": [
        "IPY_MODEL_0892742007574729837125191dae3147",
        "IPY_MODEL_04e47777866e4da6ba0dccf6b1906e26",
        "IPY_MODEL_eaf504bf5ca14d6394ef5e84a18371fd"
       ],
       "layout": "IPY_MODEL_9417af90bf39407881d74f49b663b1f1"
      }
     },
     "36bb137b87f94b2c94ab2c2d1187909d": {
      "model_module": "@jupyter-widgets/controls",
      "model_module_version": "2.0.0",
      "model_name": "HBoxModel",
      "state": {
       "children": [
        "IPY_MODEL_16b8b39042984014b78e282d3c64a51b",
        "IPY_MODEL_60644a8248ee42aabfbaefbf16369700",
        "IPY_MODEL_c8098ec1a9fb4d4db69b7c14814ade6e"
       ],
       "layout": "IPY_MODEL_c77dab7f90234dedb3acaeff3e16c743"
      }
     },
     "374b3ca15e1d491aa5ca5443b8c20824": {
      "model_module": "@jupyter-widgets/controls",
      "model_module_version": "2.0.0",
      "model_name": "FloatProgressModel",
      "state": {
       "bar_style": "success",
       "layout": "IPY_MODEL_bfc440c65ea443a9b852c1bfb718ba41",
       "max": 65,
       "style": "IPY_MODEL_72f1925bbcdf4de6aff9025168f7f8ec",
       "value": 65
      }
     },
     "37af25feb0fa4af6ae945a861df1574c": {
      "model_module": "@jupyter-widgets/controls",
      "model_module_version": "2.0.0",
      "model_name": "FloatProgressModel",
      "state": {
       "bar_style": "success",
       "layout": "IPY_MODEL_27b4861b05b64b359b2d44dbeb5ab089",
       "max": 1120,
       "style": "IPY_MODEL_f0dd073667b5455b97f4fb75ba344658",
       "value": 1120
      }
     },
     "3af0880d4e6f440aa246b772b501f6f2": {
      "model_module": "@jupyter-widgets/controls",
      "model_module_version": "2.0.0",
      "model_name": "HTMLModel",
      "state": {
       "layout": "IPY_MODEL_93c5ef29e9fe4a48b1920efccea72960",
       "style": "IPY_MODEL_44f4d1a1ed2243d6995d68eb7da41077",
       "value": " 1.12k/1.12k [00:00&lt;00:00, 35.8kB/s]"
      }
     },
     "3b166447940e4fb79a4a40bda89ba9b3": {
      "model_module": "@jupyter-widgets/controls",
      "model_module_version": "2.0.0",
      "model_name": "HTMLStyleModel",
      "state": {
       "description_width": "",
       "font_size": null,
       "text_color": null
      }
     },
     "3b258a1577104656ba95ffb94b57e855": {
      "model_module": "@jupyter-widgets/base",
      "model_module_version": "2.0.0",
      "model_name": "LayoutModel",
      "state": {}
     },
     "3b465ee0ece8477e8035b88bac4ea112": {
      "model_module": "@jupyter-widgets/controls",
      "model_module_version": "2.0.0",
      "model_name": "HTMLModel",
      "state": {
       "layout": "IPY_MODEL_ca985e506fd54793bc28bfbbdf204506",
       "style": "IPY_MODEL_ca3afeea5bae418c891de4df58a78996",
       "value": "merges.txt: 100%"
      }
     },
     "3e5f1cea90374c728ced3c7d1bc23b95": {
      "model_module": "@jupyter-widgets/controls",
      "model_module_version": "2.0.0",
      "model_name": "HTMLStyleModel",
      "state": {
       "description_width": "",
       "font_size": null,
       "text_color": null
      }
     },
     "3f894fb966b747d0bbd42702457cb74c": {
      "model_module": "@jupyter-widgets/controls",
      "model_module_version": "2.0.0",
      "model_name": "FloatProgressModel",
      "state": {
       "bar_style": "success",
       "layout": "IPY_MODEL_5afefbe852474826b85cfd5c72e11d4a",
       "max": 791656,
       "style": "IPY_MODEL_285930a51bbe4f8186228c41a0d9b6d4",
       "value": 791656
      }
     },
     "401e1989414645d292eb34b25b80539a": {
      "model_module": "@jupyter-widgets/controls",
      "model_module_version": "2.0.0",
      "model_name": "ProgressStyleModel",
      "state": {
       "description_width": ""
      }
     },
     "41dc1d7b05a149b7b05f19b5ec8b38e0": {
      "model_module": "@jupyter-widgets/controls",
      "model_module_version": "2.0.0",
      "model_name": "HTMLModel",
      "state": {
       "layout": "IPY_MODEL_457c105227864859ad6a4be27aa9aa43",
       "style": "IPY_MODEL_26a015741eef43d181249fcc95bcf2d0",
       "value": "tokenizer_config.json: 100%"
      }
     },
     "443d67c0c099495398e437343b536560": {
      "model_module": "@jupyter-widgets/base",
      "model_module_version": "2.0.0",
      "model_name": "LayoutModel",
      "state": {}
     },
     "443fb86045bb41659904efae5922acdd": {
      "model_module": "@jupyter-widgets/controls",
      "model_module_version": "2.0.0",
      "model_name": "HTMLStyleModel",
      "state": {
       "description_width": "",
       "font_size": null,
       "text_color": null
      }
     },
     "44763cd0b1764dc4ad5ca31bcad9a67e": {
      "model_module": "@jupyter-widgets/base",
      "model_module_version": "2.0.0",
      "model_name": "LayoutModel",
      "state": {}
     },
     "44f4d1a1ed2243d6995d68eb7da41077": {
      "model_module": "@jupyter-widgets/controls",
      "model_module_version": "2.0.0",
      "model_name": "HTMLStyleModel",
      "state": {
       "description_width": "",
       "font_size": null,
       "text_color": null
      }
     },
     "457c105227864859ad6a4be27aa9aa43": {
      "model_module": "@jupyter-widgets/base",
      "model_module_version": "2.0.0",
      "model_name": "LayoutModel",
      "state": {}
     },
     "48ef8fc412db4950a15fc673f0aebcac": {
      "model_module": "@jupyter-widgets/base",
      "model_module_version": "2.0.0",
      "model_name": "LayoutModel",
      "state": {}
     },
     "497af65894934831b00e7f4c9913a4be": {
      "model_module": "@jupyter-widgets/controls",
      "model_module_version": "2.0.0",
      "model_name": "HBoxModel",
      "state": {
       "children": [
        "IPY_MODEL_cd6248c71a0f40c9af22956a0476f4c0",
        "IPY_MODEL_8c6a61a27f204ed18ed5d1dab7775339",
        "IPY_MODEL_9af0ff42a987435faf44625f3aee7872"
       ],
       "layout": "IPY_MODEL_1feae759cf8c49da9a9448769b16e644"
      }
     },
     "4a3b84522186476f979596b1a716cc02": {
      "model_module": "@jupyter-widgets/controls",
      "model_module_version": "2.0.0",
      "model_name": "HTMLStyleModel",
      "state": {
       "description_width": "",
       "font_size": null,
       "text_color": null
      }
     },
     "558da2827c204f5e9970f2da88f0a103": {
      "model_module": "@jupyter-widgets/controls",
      "model_module_version": "2.0.0",
      "model_name": "HTMLModel",
      "state": {
       "layout": "IPY_MODEL_7b042ff1e773444bad8a3ef1c094ccca",
       "style": "IPY_MODEL_c844bc41b09e47c7b08d6c79ae135702",
       "value": " 899k/899k [00:00&lt;00:00, 5.19MB/s]"
      }
     },
     "58493fe7b53e45a8a21ba6fb340c16d8": {
      "model_module": "@jupyter-widgets/base",
      "model_module_version": "2.0.0",
      "model_name": "LayoutModel",
      "state": {}
     },
     "5850b1a478e34514b5231b64ac2fde3e": {
      "model_module": "@jupyter-widgets/controls",
      "model_module_version": "2.0.0",
      "model_name": "HTMLStyleModel",
      "state": {
       "description_width": "",
       "font_size": null,
       "text_color": null
      }
     },
     "5a2b178d11da4f5e8c44f00912d77c70": {
      "model_module": "@jupyter-widgets/controls",
      "model_module_version": "2.0.0",
      "model_name": "HTMLStyleModel",
      "state": {
       "description_width": "",
       "font_size": null,
       "text_color": null
      }
     },
     "5afefbe852474826b85cfd5c72e11d4a": {
      "model_module": "@jupyter-widgets/base",
      "model_module_version": "2.0.0",
      "model_name": "LayoutModel",
      "state": {}
     },
     "5cc799d35fb64316b07821dcd1b7bbf7": {
      "model_module": "@jupyter-widgets/controls",
      "model_module_version": "2.0.0",
      "model_name": "HTMLStyleModel",
      "state": {
       "description_width": "",
       "font_size": null,
       "text_color": null
      }
     },
     "5d1614e3c6c049b8b0996dcb22443c0e": {
      "model_module": "@jupyter-widgets/controls",
      "model_module_version": "2.0.0",
      "model_name": "HTMLStyleModel",
      "state": {
       "description_width": "",
       "font_size": null,
       "text_color": null
      }
     },
     "60644a8248ee42aabfbaefbf16369700": {
      "model_module": "@jupyter-widgets/controls",
      "model_module_version": "2.0.0",
      "model_name": "FloatProgressModel",
      "state": {
       "bar_style": "success",
       "layout": "IPY_MODEL_a28e9e2cce1f47d8a7e36999c7f79cb7",
       "max": 1355863,
       "style": "IPY_MODEL_eea0472d07cd465ea738f2216d07802c",
       "value": 1355863
      }
     },
     "60c3eee26c5f426ca4c553edb95ac362": {
      "model_module": "@jupyter-widgets/controls",
      "model_module_version": "2.0.0",
      "model_name": "HTMLStyleModel",
      "state": {
       "description_width": "",
       "font_size": null,
       "text_color": null
      }
     },
     "62450cb3248a489db3e9c8bfc4a85a7f": {
      "model_module": "@jupyter-widgets/base",
      "model_module_version": "2.0.0",
      "model_name": "LayoutModel",
      "state": {}
     },
     "64604cc82ae744f0bc701fb427714014": {
      "model_module": "@jupyter-widgets/base",
      "model_module_version": "2.0.0",
      "model_name": "LayoutModel",
      "state": {}
     },
     "651ec75e0c4741c6ac8ede17e65c7d9e": {
      "model_module": "@jupyter-widgets/controls",
      "model_module_version": "2.0.0",
      "model_name": "HTMLModel",
      "state": {
       "layout": "IPY_MODEL_3b258a1577104656ba95ffb94b57e855",
       "style": "IPY_MODEL_6a97c4d90bea4ef185f3ac5dc259fe04",
       "value": " 65.0/65.0 [00:00&lt;00:00, 1.95kB/s]"
      }
     },
     "6883ef7ab9ae44fcb2cd44ba5a42d795": {
      "model_module": "@jupyter-widgets/controls",
      "model_module_version": "2.0.0",
      "model_name": "HTMLModel",
      "state": {
       "layout": "IPY_MODEL_104985f967c844e780f422fff0dccc91",
       "style": "IPY_MODEL_60c3eee26c5f426ca4c553edb95ac362",
       "value": " 456k/456k [00:00&lt;00:00, 9.74MB/s]"
      }
     },
     "69083c1dfd924d90994508443a1d1a11": {
      "model_module": "@jupyter-widgets/base",
      "model_module_version": "2.0.0",
      "model_name": "LayoutModel",
      "state": {}
     },
     "6a5a830042d44b77956985b481241ef6": {
      "model_module": "@jupyter-widgets/controls",
      "model_module_version": "2.0.0",
      "model_name": "HTMLStyleModel",
      "state": {
       "description_width": "",
       "font_size": null,
       "text_color": null
      }
     },
     "6a97c4d90bea4ef185f3ac5dc259fe04": {
      "model_module": "@jupyter-widgets/controls",
      "model_module_version": "2.0.0",
      "model_name": "HTMLStyleModel",
      "state": {
       "description_width": "",
       "font_size": null,
       "text_color": null
      }
     },
     "6aba32916b204ed9bfe764adaea4d0ee": {
      "model_module": "@jupyter-widgets/controls",
      "model_module_version": "2.0.0",
      "model_name": "FloatProgressModel",
      "state": {
       "bar_style": "success",
       "layout": "IPY_MODEL_c8f5a91ab5a84805b38bcb5646513b2d",
       "max": 1206,
       "style": "IPY_MODEL_134b3d56171f4efab27abe861de5ee3f",
       "value": 1206
      }
     },
     "6bd648f4c83944039a927a171a77bb26": {
      "model_module": "@jupyter-widgets/base",
      "model_module_version": "2.0.0",
      "model_name": "LayoutModel",
      "state": {}
     },
     "6e28e100d3c747e997c588203d2ceea8": {
      "model_module": "@jupyter-widgets/controls",
      "model_module_version": "2.0.0",
      "model_name": "FloatProgressModel",
      "state": {
       "bar_style": "success",
       "layout": "IPY_MODEL_a2205c7e01a641e3b4cb3740f0456c41",
       "max": 2275327883,
       "style": "IPY_MODEL_d8612fb595604267b807f7499606499b",
       "value": 2275327883
      }
     },
     "6f0cf9923b2748dfab70e6099d6c86f4": {
      "model_module": "@jupyter-widgets/controls",
      "model_module_version": "2.0.0",
      "model_name": "HBoxModel",
      "state": {
       "children": [
        "IPY_MODEL_8c7f21638fd54bab9bc18da0e2f0a16f",
        "IPY_MODEL_374b3ca15e1d491aa5ca5443b8c20824",
        "IPY_MODEL_651ec75e0c4741c6ac8ede17e65c7d9e"
       ],
       "layout": "IPY_MODEL_a4bcedb4f4864725a7ff416755002482"
      }
     },
     "6f7b4151a8fc403298e30a0df839a2a2": {
      "model_module": "@jupyter-widgets/base",
      "model_module_version": "2.0.0",
      "model_name": "LayoutModel",
      "state": {}
     },
     "70bd11137c82440c8d074aa5e7fffcf1": {
      "model_module": "@jupyter-widgets/base",
      "model_module_version": "2.0.0",
      "model_name": "LayoutModel",
      "state": {}
     },
     "7169130c284a40e19965221b922370ec": {
      "model_module": "@jupyter-widgets/controls",
      "model_module_version": "2.0.0",
      "model_name": "HBoxModel",
      "state": {
       "children": [
        "IPY_MODEL_41dc1d7b05a149b7b05f19b5ec8b38e0",
        "IPY_MODEL_9fe86e882b704598ac542960c27d40fd",
        "IPY_MODEL_00499860215346e782c9f06fe51015fd"
       ],
       "layout": "IPY_MODEL_83fe2023ca7a41f8a967b2ff8b716064"
      }
     },
     "72f1925bbcdf4de6aff9025168f7f8ec": {
      "model_module": "@jupyter-widgets/controls",
      "model_module_version": "2.0.0",
      "model_name": "ProgressStyleModel",
      "state": {
       "description_width": ""
      }
     },
     "73fea7a71242464ca4987abeef3ec239": {
      "model_module": "@jupyter-widgets/base",
      "model_module_version": "2.0.0",
      "model_name": "LayoutModel",
      "state": {}
     },
     "7628d7bf21c04f018af2762ad5ab2dda": {
      "model_module": "@jupyter-widgets/controls",
      "model_module_version": "2.0.0",
      "model_name": "ProgressStyleModel",
      "state": {
       "description_width": ""
      }
     },
     "763867d6174e4b11a1ca28a1c96401c4": {
      "model_module": "@jupyter-widgets/base",
      "model_module_version": "2.0.0",
      "model_name": "LayoutModel",
      "state": {}
     },
     "783ed816770d476896b1c3d1ec7d7112": {
      "model_module": "@jupyter-widgets/controls",
      "model_module_version": "2.0.0",
      "model_name": "HTMLModel",
      "state": {
       "layout": "IPY_MODEL_73fea7a71242464ca4987abeef3ec239",
       "style": "IPY_MODEL_443fb86045bb41659904efae5922acdd",
       "value": " 1.72k/1.72k [00:00&lt;00:00, 110kB/s]"
      }
     },
     "79b840d240794014910102120f455006": {
      "model_module": "@jupyter-widgets/controls",
      "model_module_version": "2.0.0",
      "model_name": "HTMLModel",
      "state": {
       "layout": "IPY_MODEL_e9b94fe94d594a148b2a7ea4d0a25661",
       "style": "IPY_MODEL_0b672c59163f4731826dde859964d8b1",
       "value": "spiece.model: 100%"
      }
     },
     "79d84228c3864d2695db12164d84fc88": {
      "model_module": "@jupyter-widgets/controls",
      "model_module_version": "2.0.0",
      "model_name": "HBoxModel",
      "state": {
       "children": [
        "IPY_MODEL_79b840d240794014910102120f455006",
        "IPY_MODEL_c4d195d7a40c49bfa37b8de2a6565105",
        "IPY_MODEL_09b260c5edf6470ab37fb369727cd02a"
       ],
       "layout": "IPY_MODEL_dfbcc3815b7a474b95f28127f86d53d0"
      }
     },
     "7b042ff1e773444bad8a3ef1c094ccca": {
      "model_module": "@jupyter-widgets/base",
      "model_module_version": "2.0.0",
      "model_name": "LayoutModel",
      "state": {}
     },
     "7cad4a4b36cc4409a5dc9e6ecfd79f3e": {
      "model_module": "@jupyter-widgets/controls",
      "model_module_version": "2.0.0",
      "model_name": "ProgressStyleModel",
      "state": {
       "description_width": ""
      }
     },
     "7ea2562517314019b04b89520c489470": {
      "model_module": "@jupyter-widgets/controls",
      "model_module_version": "2.0.0",
      "model_name": "HTMLModel",
      "state": {
       "layout": "IPY_MODEL_a3019deec4064639a6f32471a335f04e",
       "style": "IPY_MODEL_cbbc9d76476e4f6ca8e1341383e78d66",
       "value": " 792k/792k [00:00&lt;00:00, 3.76MB/s]"
      }
     },
     "7f39a1315eef42528d9ce57b2a4808a8": {
      "model_module": "@jupyter-widgets/controls",
      "model_module_version": "2.0.0",
      "model_name": "ProgressStyleModel",
      "state": {
       "description_width": ""
      }
     },
     "7f4ceb180c32453792586bd57bcc071d": {
      "model_module": "@jupyter-widgets/controls",
      "model_module_version": "2.0.0",
      "model_name": "HBoxModel",
      "state": {
       "children": [
        "IPY_MODEL_b0ded92965dc481a8ed7635804163adf",
        "IPY_MODEL_eef16a0fde814bc0bb32f5274f6c2ca9",
        "IPY_MODEL_f12b668f0bbe4b7fa073b8cd3b9a8a90"
       ],
       "layout": "IPY_MODEL_70bd11137c82440c8d074aa5e7fffcf1"
      }
     },
     "7fc8a11a1b3d4c938a5abc224a98d945": {
      "model_module": "@jupyter-widgets/controls",
      "model_module_version": "2.0.0",
      "model_name": "HTMLModel",
      "state": {
       "layout": "IPY_MODEL_c8b682fd360d456e8602178132556696",
       "style": "IPY_MODEL_4a3b84522186476f979596b1a716cc02",
       "value": "config.json: 100%"
      }
     },
     "7fec28ab703c4c349625de7f774868ac": {
      "model_module": "@jupyter-widgets/base",
      "model_module_version": "2.0.0",
      "model_name": "LayoutModel",
      "state": {}
     },
     "7ff48a8f162d474db407545afd32e213": {
      "model_module": "@jupyter-widgets/base",
      "model_module_version": "2.0.0",
      "model_name": "LayoutModel",
      "state": {}
     },
     "807d897553b94dc5b56187905296bfdd": {
      "model_module": "@jupyter-widgets/base",
      "model_module_version": "2.0.0",
      "model_name": "LayoutModel",
      "state": {}
     },
     "81d1cdf7af294883848f4c755f504ac4": {
      "model_module": "@jupyter-widgets/controls",
      "model_module_version": "2.0.0",
      "model_name": "HTMLModel",
      "state": {
       "layout": "IPY_MODEL_2d43cf45b96d421488090858db1d46ac",
       "style": "IPY_MODEL_25d37270550a45dba8c8d08f76926089",
       "value": "config.json: 100%"
      }
     },
     "83fe2023ca7a41f8a967b2ff8b716064": {
      "model_module": "@jupyter-widgets/base",
      "model_module_version": "2.0.0",
      "model_name": "LayoutModel",
      "state": {}
     },
     "8afc9493e167437b9f4dd3f4a74d26f8": {
      "model_module": "@jupyter-widgets/base",
      "model_module_version": "2.0.0",
      "model_name": "LayoutModel",
      "state": {}
     },
     "8b7b369857fb4d438f5aa8f2ddedee88": {
      "model_module": "@jupyter-widgets/controls",
      "model_module_version": "2.0.0",
      "model_name": "HTMLStyleModel",
      "state": {
       "description_width": "",
       "font_size": null,
       "text_color": null
      }
     },
     "8bbd0f48b8ab4c5a8894e84ec6317216": {
      "model_module": "@jupyter-widgets/controls",
      "model_module_version": "2.0.0",
      "model_name": "HBoxModel",
      "state": {
       "children": [
        "IPY_MODEL_f2ec105cd8914725bdd8bcb467e829d9",
        "IPY_MODEL_6aba32916b204ed9bfe764adaea4d0ee",
        "IPY_MODEL_1b610e8590f04db2a59b9e735c9c1bbf"
       ],
       "layout": "IPY_MODEL_a394f7ef347f44c68570a786ea8e5c84"
      }
     },
     "8c6a61a27f204ed18ed5d1dab7775339": {
      "model_module": "@jupyter-widgets/controls",
      "model_module_version": "2.0.0",
      "model_name": "FloatProgressModel",
      "state": {
       "bar_style": "success",
       "layout": "IPY_MODEL_443d67c0c099495398e437343b536560",
       "max": 2324,
       "style": "IPY_MODEL_401e1989414645d292eb34b25b80539a",
       "value": 2324
      }
     },
     "8c7f21638fd54bab9bc18da0e2f0a16f": {
      "model_module": "@jupyter-widgets/controls",
      "model_module_version": "2.0.0",
      "model_name": "HTMLModel",
      "state": {
       "layout": "IPY_MODEL_b74f9aaeb4ce451b984af20bd481e2e4",
       "style": "IPY_MODEL_b5a8c8375de147298c0d0875eaacba5a",
       "value": "special_tokens_map.json: 100%"
      }
     },
     "8d0bc6f358b34d29b2f26e950eda4f63": {
      "model_module": "@jupyter-widgets/base",
      "model_module_version": "2.0.0",
      "model_name": "LayoutModel",
      "state": {}
     },
     "902b8c68f1fb4d3d8eeaa8370c62397e": {
      "model_module": "@jupyter-widgets/base",
      "model_module_version": "2.0.0",
      "model_name": "LayoutModel",
      "state": {}
     },
     "93578e3d154e4082b079f6c4ccb0d072": {
      "model_module": "@jupyter-widgets/controls",
      "model_module_version": "2.0.0",
      "model_name": "FloatProgressModel",
      "state": {
       "bar_style": "success",
       "layout": "IPY_MODEL_f6ea8ba8fa9b433ab4f87bd3c8fd23a6",
       "max": 242043056,
       "style": "IPY_MODEL_7628d7bf21c04f018af2762ad5ab2dda",
       "value": 242043056
      }
     },
     "93c5ef29e9fe4a48b1920efccea72960": {
      "model_module": "@jupyter-widgets/base",
      "model_module_version": "2.0.0",
      "model_name": "LayoutModel",
      "state": {}
     },
     "9417af90bf39407881d74f49b663b1f1": {
      "model_module": "@jupyter-widgets/base",
      "model_module_version": "2.0.0",
      "model_name": "LayoutModel",
      "state": {}
     },
     "947a5eb448c1498aa57d325982cb2849": {
      "model_module": "@jupyter-widgets/controls",
      "model_module_version": "2.0.0",
      "model_name": "HBoxModel",
      "state": {
       "children": [
        "IPY_MODEL_c2789b43bbc14c75bb9a622ed2914caf",
        "IPY_MODEL_35ab819140f142aa872d6448726bb4dd",
        "IPY_MODEL_05fa9803adc54dbc960e7c094bdfbe29"
       ],
       "layout": "IPY_MODEL_ff69691cc15f4be59e2f0f780ea3bae6"
      }
     },
     "95bdc67b2aa144b3a7094ef02414fe3f": {
      "model_module": "@jupyter-widgets/controls",
      "model_module_version": "2.0.0",
      "model_name": "HTMLModel",
      "state": {
       "layout": "IPY_MODEL_69083c1dfd924d90994508443a1d1a11",
       "style": "IPY_MODEL_308681a7c53c47c4b695124d54e16b86",
       "value": "spiece.model: 100%"
      }
     },
     "95fad495df6a4990ab3ca7cbbe9ffc0b": {
      "model_module": "@jupyter-widgets/base",
      "model_module_version": "2.0.0",
      "model_name": "LayoutModel",
      "state": {}
     },
     "95fff2b385f246b2831da590fc697803": {
      "model_module": "@jupyter-widgets/base",
      "model_module_version": "2.0.0",
      "model_name": "LayoutModel",
      "state": {}
     },
     "96a024ffb6094569b2d62add071156f2": {
      "model_module": "@jupyter-widgets/base",
      "model_module_version": "2.0.0",
      "model_name": "LayoutModel",
      "state": {}
     },
     "9af0ff42a987435faf44625f3aee7872": {
      "model_module": "@jupyter-widgets/controls",
      "model_module_version": "2.0.0",
      "model_name": "HTMLModel",
      "state": {
       "layout": "IPY_MODEL_ff36342d83d142a1adf820626e775aec",
       "style": "IPY_MODEL_6a5a830042d44b77956985b481241ef6",
       "value": " 2.32k/2.32k [00:00&lt;00:00, 79.4kB/s]"
      }
     },
     "9f5fba38ba924a48975d2e600e946e60": {
      "model_module": "@jupyter-widgets/controls",
      "model_module_version": "2.0.0",
      "model_name": "ProgressStyleModel",
      "state": {
       "description_width": ""
      }
     },
     "9fc2e577714742e69223398a6ef31cd9": {
      "model_module": "@jupyter-widgets/controls",
      "model_module_version": "2.0.0",
      "model_name": "HTMLStyleModel",
      "state": {
       "description_width": "",
       "font_size": null,
       "text_color": null
      }
     },
     "9fe86e882b704598ac542960c27d40fd": {
      "model_module": "@jupyter-widgets/controls",
      "model_module_version": "2.0.0",
      "model_name": "FloatProgressModel",
      "state": {
       "bar_style": "success",
       "layout": "IPY_MODEL_a8fde07839954647bb47ba02cbd2458e",
       "max": 88,
       "style": "IPY_MODEL_9f5fba38ba924a48975d2e600e946e60",
       "value": 88
      }
     },
     "a2205c7e01a641e3b4cb3740f0456c41": {
      "model_module": "@jupyter-widgets/base",
      "model_module_version": "2.0.0",
      "model_name": "LayoutModel",
      "state": {}
     },
     "a28e9e2cce1f47d8a7e36999c7f79cb7": {
      "model_module": "@jupyter-widgets/base",
      "model_module_version": "2.0.0",
      "model_name": "LayoutModel",
      "state": {}
     },
     "a2a294d855bd45a3ac13a8681a5d89a6": {
      "model_module": "@jupyter-widgets/controls",
      "model_module_version": "2.0.0",
      "model_name": "HTMLStyleModel",
      "state": {
       "description_width": "",
       "font_size": null,
       "text_color": null
      }
     },
     "a3019deec4064639a6f32471a335f04e": {
      "model_module": "@jupyter-widgets/base",
      "model_module_version": "2.0.0",
      "model_name": "LayoutModel",
      "state": {}
     },
     "a394f7ef347f44c68570a786ea8e5c84": {
      "model_module": "@jupyter-widgets/base",
      "model_module_version": "2.0.0",
      "model_name": "LayoutModel",
      "state": {}
     },
     "a4bcedb4f4864725a7ff416755002482": {
      "model_module": "@jupyter-widgets/base",
      "model_module_version": "2.0.0",
      "model_name": "LayoutModel",
      "state": {}
     },
     "a8fde07839954647bb47ba02cbd2458e": {
      "model_module": "@jupyter-widgets/base",
      "model_module_version": "2.0.0",
      "model_name": "LayoutModel",
      "state": {}
     },
     "a926d077819a40c19e659796d1f81420": {
      "model_module": "@jupyter-widgets/controls",
      "model_module_version": "2.0.0",
      "model_name": "ProgressStyleModel",
      "state": {
       "description_width": ""
      }
     },
     "a9f120b8f81c430f82c85cface952ca8": {
      "model_module": "@jupyter-widgets/controls",
      "model_module_version": "2.0.0",
      "model_name": "ProgressStyleModel",
      "state": {
       "description_width": ""
      }
     },
     "aabffeecf7554275903667844cc30246": {
      "model_module": "@jupyter-widgets/controls",
      "model_module_version": "2.0.0",
      "model_name": "HTMLModel",
      "state": {
       "layout": "IPY_MODEL_bfaf19ffbe834e059ba4c9cc80db695b",
       "style": "IPY_MODEL_d5bb7d53036c4d0c87aef783379eda6a",
       "value": " 280/280 [00:00&lt;00:00, 13.6kB/s]"
      }
     },
     "af9a5fbd232842c084e41c0f59239245": {
      "model_module": "@jupyter-widgets/controls",
      "model_module_version": "2.0.0",
      "model_name": "HBoxModel",
      "state": {
       "children": [
        "IPY_MODEL_3b465ee0ece8477e8035b88bac4ea112",
        "IPY_MODEL_b05e9846553e44d5b4e747e4ecfa8187",
        "IPY_MODEL_6883ef7ab9ae44fcb2cd44ba5a42d795"
       ],
       "layout": "IPY_MODEL_8afc9493e167437b9f4dd3f4a74d26f8"
      }
     },
     "b05e9846553e44d5b4e747e4ecfa8187": {
      "model_module": "@jupyter-widgets/controls",
      "model_module_version": "2.0.0",
      "model_name": "FloatProgressModel",
      "state": {
       "bar_style": "success",
       "layout": "IPY_MODEL_58493fe7b53e45a8a21ba6fb340c16d8",
       "max": 456318,
       "style": "IPY_MODEL_d235188c62c14cc5875e2a99cf42f8b2",
       "value": 456318
      }
     },
     "b0ded92965dc481a8ed7635804163adf": {
      "model_module": "@jupyter-widgets/controls",
      "model_module_version": "2.0.0",
      "model_name": "HTMLModel",
      "state": {
       "layout": "IPY_MODEL_2b46e5e306fc4ca68a84a2cec600ea12",
       "style": "IPY_MODEL_20c5ad50a1834a829ff3fe53795975f6",
       "value": "model.safetensors: 100%"
      }
     },
     "b1c4ddb9b6434822ac8cfa742855916e": {
      "model_module": "@jupyter-widgets/controls",
      "model_module_version": "2.0.0",
      "model_name": "FloatProgressModel",
      "state": {
       "bar_style": "success",
       "layout": "IPY_MODEL_8d0bc6f358b34d29b2f26e950eda4f63",
       "max": 1716,
       "style": "IPY_MODEL_c776449b5aeb4a47916b12857778e5c7",
       "value": 1716
      }
     },
     "b1ede96bc4084131a69007bed482fe0c": {
      "model_module": "@jupyter-widgets/base",
      "model_module_version": "2.0.0",
      "model_name": "LayoutModel",
      "state": {}
     },
     "b25c060f8e8e42798fcd9301a56d9c59": {
      "model_module": "@jupyter-widgets/controls",
      "model_module_version": "2.0.0",
      "model_name": "HTMLStyleModel",
      "state": {
       "description_width": "",
       "font_size": null,
       "text_color": null
      }
     },
     "b339090fb9454f7790a11d3386a99e9e": {
      "model_module": "@jupyter-widgets/base",
      "model_module_version": "2.0.0",
      "model_name": "LayoutModel",
      "state": {}
     },
     "b432498d625e43bcb39c91ab25cf30f1": {
      "model_module": "@jupyter-widgets/controls",
      "model_module_version": "2.0.0",
      "model_name": "HTMLStyleModel",
      "state": {
       "description_width": "",
       "font_size": null,
       "text_color": null
      }
     },
     "b5a8c8375de147298c0d0875eaacba5a": {
      "model_module": "@jupyter-widgets/controls",
      "model_module_version": "2.0.0",
      "model_name": "HTMLStyleModel",
      "state": {
       "description_width": "",
       "font_size": null,
       "text_color": null
      }
     },
     "b60711a9aeea4f1f83a0bb54976abe40": {
      "model_module": "@jupyter-widgets/controls",
      "model_module_version": "2.0.0",
      "model_name": "HBoxModel",
      "state": {
       "children": [
        "IPY_MODEL_33e948f5567a4f868d5fc6c37f51b497",
        "IPY_MODEL_cdc376a3300c41fda623b765b6b7d41a",
        "IPY_MODEL_558da2827c204f5e9970f2da88f0a103"
       ],
       "layout": "IPY_MODEL_6f7b4151a8fc403298e30a0df839a2a2"
      }
     },
     "b65c5b25ac5c42ac858a42c56b5e4438": {
      "model_module": "@jupyter-widgets/controls",
      "model_module_version": "2.0.0",
      "model_name": "HTMLModel",
      "state": {
       "layout": "IPY_MODEL_6bd648f4c83944039a927a171a77bb26",
       "style": "IPY_MODEL_b25c060f8e8e42798fcd9301a56d9c59",
       "value": " 2.28G/2.28G [07:01&lt;00:00, 8.49MB/s]"
      }
     },
     "b74f9aaeb4ce451b984af20bd481e2e4": {
      "model_module": "@jupyter-widgets/base",
      "model_module_version": "2.0.0",
      "model_name": "LayoutModel",
      "state": {}
     },
     "b878a926bfce423a8a82252e19c48f89": {
      "model_module": "@jupyter-widgets/controls",
      "model_module_version": "2.0.0",
      "model_name": "HTMLStyleModel",
      "state": {
       "description_width": "",
       "font_size": null,
       "text_color": null
      }
     },
     "b891da47b42f48a99399289ef69e2ef8": {
      "model_module": "@jupyter-widgets/controls",
      "model_module_version": "2.0.0",
      "model_name": "HTMLStyleModel",
      "state": {
       "description_width": "",
       "font_size": null,
       "text_color": null
      }
     },
     "baaa7aeffe50421db731cb11e66a9f00": {
      "model_module": "@jupyter-widgets/controls",
      "model_module_version": "2.0.0",
      "model_name": "HBoxModel",
      "state": {
       "children": [
        "IPY_MODEL_7fc8a11a1b3d4c938a5abc224a98d945",
        "IPY_MODEL_b1c4ddb9b6434822ac8cfa742855916e",
        "IPY_MODEL_783ed816770d476896b1c3d1ec7d7112"
       ],
       "layout": "IPY_MODEL_62450cb3248a489db3e9c8bfc4a85a7f"
      }
     },
     "bef34122df264ce38a05ee1c285b59dd": {
      "model_module": "@jupyter-widgets/controls",
      "model_module_version": "2.0.0",
      "model_name": "HTMLModel",
      "state": {
       "layout": "IPY_MODEL_2b016a716fb549b6a83f1d9950723424",
       "style": "IPY_MODEL_b891da47b42f48a99399289ef69e2ef8",
       "value": "pytorch_model.bin: 100%"
      }
     },
     "bf8f9c622b4348c68b57f80b91da39c4": {
      "model_module": "@jupyter-widgets/base",
      "model_module_version": "2.0.0",
      "model_name": "LayoutModel",
      "state": {}
     },
     "bfaf19ffbe834e059ba4c9cc80db695b": {
      "model_module": "@jupyter-widgets/base",
      "model_module_version": "2.0.0",
      "model_name": "LayoutModel",
      "state": {}
     },
     "bfc440c65ea443a9b852c1bfb718ba41": {
      "model_module": "@jupyter-widgets/base",
      "model_module_version": "2.0.0",
      "model_name": "LayoutModel",
      "state": {}
     },
     "c104671702f5489f8890865cc2b41a35": {
      "model_module": "@jupyter-widgets/controls",
      "model_module_version": "2.0.0",
      "model_name": "HTMLStyleModel",
      "state": {
       "description_width": "",
       "font_size": null,
       "text_color": null
      }
     },
     "c2789b43bbc14c75bb9a622ed2914caf": {
      "model_module": "@jupyter-widgets/controls",
      "model_module_version": "2.0.0",
      "model_name": "HTMLModel",
      "state": {
       "layout": "IPY_MODEL_bf8f9c622b4348c68b57f80b91da39c4",
       "style": "IPY_MODEL_f6366d0d240a4355b42cf9b5f3b869b6",
       "value": "tokenizer.json: 100%"
      }
     },
     "c3c6d58fb67443b493c0d6c0650401aa": {
      "model_module": "@jupyter-widgets/base",
      "model_module_version": "2.0.0",
      "model_name": "LayoutModel",
      "state": {}
     },
     "c4d195d7a40c49bfa37b8de2a6565105": {
      "model_module": "@jupyter-widgets/controls",
      "model_module_version": "2.0.0",
      "model_name": "FloatProgressModel",
      "state": {
       "bar_style": "success",
       "layout": "IPY_MODEL_44763cd0b1764dc4ad5ca31bcad9a67e",
       "max": 1912529,
       "style": "IPY_MODEL_7f39a1315eef42528d9ce57b2a4808a8",
       "value": 1912529
      }
     },
     "c67b68e72ba344928c55132f2eab7869": {
      "model_module": "@jupyter-widgets/base",
      "model_module_version": "2.0.0",
      "model_name": "LayoutModel",
      "state": {}
     },
     "c6dfaf7d6a094a5e85ed208426250d1a": {
      "model_module": "@jupyter-widgets/base",
      "model_module_version": "2.0.0",
      "model_name": "LayoutModel",
      "state": {}
     },
     "c776449b5aeb4a47916b12857778e5c7": {
      "model_module": "@jupyter-widgets/controls",
      "model_module_version": "2.0.0",
      "model_name": "ProgressStyleModel",
      "state": {
       "description_width": ""
      }
     },
     "c77dab7f90234dedb3acaeff3e16c743": {
      "model_module": "@jupyter-widgets/base",
      "model_module_version": "2.0.0",
      "model_name": "LayoutModel",
      "state": {}
     },
     "c8098ec1a9fb4d4db69b7c14814ade6e": {
      "model_module": "@jupyter-widgets/controls",
      "model_module_version": "2.0.0",
      "model_name": "HTMLModel",
      "state": {
       "layout": "IPY_MODEL_b1ede96bc4084131a69007bed482fe0c",
       "style": "IPY_MODEL_c104671702f5489f8890865cc2b41a35",
       "value": " 1.36M/1.36M [00:00&lt;00:00, 10.0MB/s]"
      }
     },
     "c844bc41b09e47c7b08d6c79ae135702": {
      "model_module": "@jupyter-widgets/controls",
      "model_module_version": "2.0.0",
      "model_name": "HTMLStyleModel",
      "state": {
       "description_width": "",
       "font_size": null,
       "text_color": null
      }
     },
     "c8b682fd360d456e8602178132556696": {
      "model_module": "@jupyter-widgets/base",
      "model_module_version": "2.0.0",
      "model_name": "LayoutModel",
      "state": {}
     },
     "c8f5a91ab5a84805b38bcb5646513b2d": {
      "model_module": "@jupyter-widgets/base",
      "model_module_version": "2.0.0",
      "model_name": "LayoutModel",
      "state": {}
     },
     "c9b6a6d4eeec4b8ca7a93b71f1410e64": {
      "model_module": "@jupyter-widgets/controls",
      "model_module_version": "2.0.0",
      "model_name": "ProgressStyleModel",
      "state": {
       "description_width": ""
      }
     },
     "ca3afeea5bae418c891de4df58a78996": {
      "model_module": "@jupyter-widgets/controls",
      "model_module_version": "2.0.0",
      "model_name": "HTMLStyleModel",
      "state": {
       "description_width": "",
       "font_size": null,
       "text_color": null
      }
     },
     "ca985e506fd54793bc28bfbbdf204506": {
      "model_module": "@jupyter-widgets/base",
      "model_module_version": "2.0.0",
      "model_name": "LayoutModel",
      "state": {}
     },
     "cbbc9d76476e4f6ca8e1341383e78d66": {
      "model_module": "@jupyter-widgets/controls",
      "model_module_version": "2.0.0",
      "model_name": "HTMLStyleModel",
      "state": {
       "description_width": "",
       "font_size": null,
       "text_color": null
      }
     },
     "cd6248c71a0f40c9af22956a0476f4c0": {
      "model_module": "@jupyter-widgets/controls",
      "model_module_version": "2.0.0",
      "model_name": "HTMLModel",
      "state": {
       "layout": "IPY_MODEL_96a024ffb6094569b2d62add071156f2",
       "style": "IPY_MODEL_a2a294d855bd45a3ac13a8681a5d89a6",
       "value": "tokenizer_config.json: 100%"
      }
     },
     "cdc376a3300c41fda623b765b6b7d41a": {
      "model_module": "@jupyter-widgets/controls",
      "model_module_version": "2.0.0",
      "model_name": "FloatProgressModel",
      "state": {
       "bar_style": "success",
       "layout": "IPY_MODEL_fbb24ec4494d48e0ba9de99fa3d240a6",
       "max": 898823,
       "style": "IPY_MODEL_0022a74995c14ebda59b1eea2d012db5",
       "value": 898823
      }
     },
     "ce2022d353d64c0186025d0ed33c1964": {
      "model_module": "@jupyter-widgets/controls",
      "model_module_version": "2.0.0",
      "model_name": "HTMLStyleModel",
      "state": {
       "description_width": "",
       "font_size": null,
       "text_color": null
      }
     },
     "d235188c62c14cc5875e2a99cf42f8b2": {
      "model_module": "@jupyter-widgets/controls",
      "model_module_version": "2.0.0",
      "model_name": "ProgressStyleModel",
      "state": {
       "description_width": ""
      }
     },
     "d3071172b0af44ee9cc7b815d3444009": {
      "model_module": "@jupyter-widgets/controls",
      "model_module_version": "2.0.0",
      "model_name": "FloatProgressModel",
      "state": {
       "bar_style": "success",
       "layout": "IPY_MODEL_d5bcaa1daa614e3a9415f20b16bd653e",
       "max": 280,
       "style": "IPY_MODEL_a9f120b8f81c430f82c85cface952ca8",
       "value": 280
      }
     },
     "d5bb7d53036c4d0c87aef783379eda6a": {
      "model_module": "@jupyter-widgets/controls",
      "model_module_version": "2.0.0",
      "model_name": "HTMLStyleModel",
      "state": {
       "description_width": "",
       "font_size": null,
       "text_color": null
      }
     },
     "d5bcaa1daa614e3a9415f20b16bd653e": {
      "model_module": "@jupyter-widgets/base",
      "model_module_version": "2.0.0",
      "model_name": "LayoutModel",
      "state": {}
     },
     "d8612fb595604267b807f7499606499b": {
      "model_module": "@jupyter-widgets/controls",
      "model_module_version": "2.0.0",
      "model_name": "ProgressStyleModel",
      "state": {
       "description_width": ""
      }
     },
     "db355901c466449185c04eadffa7f4e2": {
      "model_module": "@jupyter-widgets/base",
      "model_module_version": "2.0.0",
      "model_name": "LayoutModel",
      "state": {}
     },
     "ddff8546d17c4400a5cd8389904a6e07": {
      "model_module": "@jupyter-widgets/base",
      "model_module_version": "2.0.0",
      "model_name": "LayoutModel",
      "state": {}
     },
     "dfbcc3815b7a474b95f28127f86d53d0": {
      "model_module": "@jupyter-widgets/base",
      "model_module_version": "2.0.0",
      "model_name": "LayoutModel",
      "state": {}
     },
     "e9b94fe94d594a148b2a7ea4d0a25661": {
      "model_module": "@jupyter-widgets/base",
      "model_module_version": "2.0.0",
      "model_name": "LayoutModel",
      "state": {}
     },
     "eaf504bf5ca14d6394ef5e84a18371fd": {
      "model_module": "@jupyter-widgets/controls",
      "model_module_version": "2.0.0",
      "model_name": "HTMLModel",
      "state": {
       "layout": "IPY_MODEL_32a9fbc294374deda30b106cc486cec8",
       "style": "IPY_MODEL_5850b1a478e34514b5231b64ac2fde3e",
       "value": " 147/147 [00:00&lt;00:00, 4.77kB/s]"
      }
     },
     "eb919a118c3d423fbbb77c22bae8a1fb": {
      "model_module": "@jupyter-widgets/controls",
      "model_module_version": "2.0.0",
      "model_name": "HBoxModel",
      "state": {
       "children": [
        "IPY_MODEL_bef34122df264ce38a05ee1c285b59dd",
        "IPY_MODEL_6e28e100d3c747e997c588203d2ceea8",
        "IPY_MODEL_b65c5b25ac5c42ac858a42c56b5e4438"
       ],
       "layout": "IPY_MODEL_902b8c68f1fb4d3d8eeaa8370c62397e"
      }
     },
     "eea0472d07cd465ea738f2216d07802c": {
      "model_module": "@jupyter-widgets/controls",
      "model_module_version": "2.0.0",
      "model_name": "ProgressStyleModel",
      "state": {
       "description_width": ""
      }
     },
     "eef16a0fde814bc0bb32f5274f6c2ca9": {
      "model_module": "@jupyter-widgets/controls",
      "model_module_version": "2.0.0",
      "model_name": "FloatProgressModel",
      "state": {
       "bar_style": "success",
       "layout": "IPY_MODEL_807d897553b94dc5b56187905296bfdd",
       "max": 557709915,
       "style": "IPY_MODEL_a926d077819a40c19e659796d1f81420",
       "value": 557709915
      }
     },
     "f046a2ad5bea44a29882db7556b8813f": {
      "model_module": "@jupyter-widgets/controls",
      "model_module_version": "2.0.0",
      "model_name": "HTMLStyleModel",
      "state": {
       "description_width": "",
       "font_size": null,
       "text_color": null
      }
     },
     "f0dd073667b5455b97f4fb75ba344658": {
      "model_module": "@jupyter-widgets/controls",
      "model_module_version": "2.0.0",
      "model_name": "ProgressStyleModel",
      "state": {
       "description_width": ""
      }
     },
     "f12b668f0bbe4b7fa073b8cd3b9a8a90": {
      "model_module": "@jupyter-widgets/controls",
      "model_module_version": "2.0.0",
      "model_name": "HTMLModel",
      "state": {
       "layout": "IPY_MODEL_26f577853e2e44f186cf1031ac45e42d",
       "style": "IPY_MODEL_9fc2e577714742e69223398a6ef31cd9",
       "value": " 558M/558M [01:01&lt;00:00, 9.05MB/s]"
      }
     },
     "f2ec105cd8914725bdd8bcb467e829d9": {
      "model_module": "@jupyter-widgets/controls",
      "model_module_version": "2.0.0",
      "model_name": "HTMLModel",
      "state": {
       "layout": "IPY_MODEL_c3c6d58fb67443b493c0d6c0650401aa",
       "style": "IPY_MODEL_b878a926bfce423a8a82252e19c48f89",
       "value": "config.json: 100%"
      }
     },
     "f537387574084cfd9a22cfc731c2a790": {
      "model_module": "@jupyter-widgets/controls",
      "model_module_version": "2.0.0",
      "model_name": "HTMLModel",
      "state": {
       "layout": "IPY_MODEL_48ef8fc412db4950a15fc673f0aebcac",
       "style": "IPY_MODEL_0921335bdb55404b9bc9e0433b9a8ac9",
       "value": " 242M/242M [00:41&lt;00:00, 5.39MB/s]"
      }
     },
     "f6366d0d240a4355b42cf9b5f3b869b6": {
      "model_module": "@jupyter-widgets/controls",
      "model_module_version": "2.0.0",
      "model_name": "HTMLStyleModel",
      "state": {
       "description_width": "",
       "font_size": null,
       "text_color": null
      }
     },
     "f6ea8ba8fa9b433ab4f87bd3c8fd23a6": {
      "model_module": "@jupyter-widgets/base",
      "model_module_version": "2.0.0",
      "model_name": "LayoutModel",
      "state": {}
     },
     "fbb24ec4494d48e0ba9de99fa3d240a6": {
      "model_module": "@jupyter-widgets/base",
      "model_module_version": "2.0.0",
      "model_name": "LayoutModel",
      "state": {}
     },
     "ff36342d83d142a1adf820626e775aec": {
      "model_module": "@jupyter-widgets/base",
      "model_module_version": "2.0.0",
      "model_name": "LayoutModel",
      "state": {}
     },
     "ff69691cc15f4be59e2f0f780ea3bae6": {
      "model_module": "@jupyter-widgets/base",
      "model_module_version": "2.0.0",
      "model_name": "LayoutModel",
      "state": {}
     }
    },
    "version_major": 2,
    "version_minor": 0
   }
  }
 },
 "nbformat": 4,
 "nbformat_minor": 5
}
